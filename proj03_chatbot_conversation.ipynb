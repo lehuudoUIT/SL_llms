{
 "cells": [
  {
   "cell_type": "markdown",
   "id": "b475cf4a-249a-4917-8c37-909f37539ec6",
   "metadata": {},
   "source": [
    "# PROJECT 3: CHATBOTS CONVERSATION"
   ]
  },
  {
   "cell_type": "code",
   "execution_count": 4,
   "id": "feef3fc8",
   "metadata": {},
   "outputs": [],
   "source": [
    "# Set up environment\n",
    "import os\n",
    "from dotenv import load_dotenv\n",
    "from openai import OpenAI\n",
    "# import anthropic\n",
    "from IPython.display import Markdown, display, update_display\n",
    "import google.generativeai\n",
    "\n",
    "load_dotenv(override=True)\n",
    "openai_api_key = os.getenv('OPENAI_API_KEY')\n",
    "google_api_key = os.getenv('GOOGLE_API_KEY')"
   ]
  },
  {
   "cell_type": "code",
   "execution_count": 5,
   "id": "22919b28",
   "metadata": {},
   "outputs": [
    {
     "name": "stdout",
     "output_type": "stream",
     "text": [
      "OpenAI API Key exists and begins sk-proj-\n",
      "Google API Key exists and begins AIzaSyAn\n"
     ]
    }
   ],
   "source": [
    "if openai_api_key:\n",
    "    print(f\"OpenAI API Key exists and begins {openai_api_key[:8]}\")\n",
    "else:\n",
    "    print(\"OpenAI API Key not set\")\n",
    "\n",
    "if google_api_key:\n",
    "    print(f\"Google API Key exists and begins {google_api_key[:8]}\")\n",
    "else:\n",
    "    print(\"Google API Key not set\")"
   ]
  },
  {
   "cell_type": "code",
   "execution_count": 6,
   "id": "597c0a47",
   "metadata": {},
   "outputs": [],
   "source": [
    "# Let's make a conversation between GPT-4o-mini and Claude-3-haiku\n",
    "# We're using cheap versions of models so the costs will be minimal\n",
    "\n",
    "negative_model = \"gpt-4o-mini\"\n",
    "moderate_model = \"gpt-4o-mini\"\n",
    "positive_model = \"gpt-4o-mini\"\n",
    "\n",
    "negative_system = \"You are a chatbot who is very argumentative; \\\n",
    "you disagree with anything in the conversation and you challenge everything, in a snarky way.\"\n",
    "\n",
    "moderate_system=\"You are a neutral, thoughtful chatbot. \" \\\n",
    "\"You engage in conversations with an open mind, offering balanced perspectives. \" \\\n",
    "\"You neither fully agree nor disagree by default; \" \\\n",
    "\"instead, you evaluate each point calmly and respond with reasoned insights. \" \\\n",
    "\"If the conversation becomes heated, you maintain a composed tone, \" \\\n",
    "\"seeking to clarify and understand while gently steering toward constructive dialogue.\"\n",
    "\n",
    "positive_system = \"You are a very polite, courteous chatbot. You try to agree with \\\n",
    "everything the other person says, or find common ground. If the other person is argumentative, \\\n",
    "you try to calm them down and keep chatting.\"\n",
    "\n",
    "negative_messages = [\"Hi there\"]\n",
    "moderate_messages = [\"Hello\"]\n",
    "positive_messages = [\"Hi\"]\n",
    "\n",
    "openai = OpenAI()"
   ]
  },
  {
   "cell_type": "code",
   "execution_count": 19,
   "id": "1fe068c8",
   "metadata": {},
   "outputs": [],
   "source": [
    "import datetime\n",
    "\n",
    "def log_to_file(message, level=\"INFO\", log_file=\"app.log\"):\n",
    "    \"\"\"\n",
    "    Logs a message to a specified log file with a timestamp and log level.\n",
    "\n",
    "    :param message: The message to log.\n",
    "    :param level: The log level (e.g., \"INFO\", \"WARNING\", \"ERROR\"). Defaults to \"INFO\".\n",
    "    :param log_file: The name of the log file. Defaults to \"app.log\".\n",
    "    \"\"\"\n",
    "    timestamp = datetime.datetime.now().strftime(\"%Y-%m-%d %H:%M:%S\")\n",
    "    log_entry = f\"{timestamp} [{level}] {message}\\n\"\n",
    "    with open(log_file, \"a\") as file:\n",
    "        file.write(log_entry)"
   ]
  },
  {
   "cell_type": "code",
   "execution_count": 15,
   "id": "ad1b8c8a",
   "metadata": {},
   "outputs": [],
   "source": [
    "def call_negative():\n",
    "    messages = [{\"role\": \"system\", \"content\": negative_system}]\n",
    "    for negative, moderate, positive in zip(negative_messages, moderate_messages, positive_messages):\n",
    "        messages.append({\"role\": \"assistant\", \"content\": negative})\n",
    "        messages.append({\"role\": \"user\", \"content\": moderate})\n",
    "        messages.append({\"role\": \"user\", \"content\": positive})\n",
    "    \n",
    "    log_to_file(message=messages, log_file=\"./logs/log_negative.txt\")\n",
    "    \n",
    "    completion = openai.chat.completions.create(\n",
    "        model=negative_model,\n",
    "        messages=messages\n",
    "    )\n",
    "    return completion.choices[0].message.content"
   ]
  },
  {
   "cell_type": "code",
   "execution_count": 16,
   "id": "0350d19a",
   "metadata": {},
   "outputs": [],
   "source": [
    "def call_moderate():\n",
    "    messages = [{\"role\": \"system\", \"content\": moderate_system}]\n",
    "    for negative, moderate, positive in zip(negative_messages, moderate_messages, positive_messages):\n",
    "        messages.append({\"role\": \"user\", \"content\": negative})\n",
    "        messages.append({\"role\": \"assistant\", \"content\": moderate})\n",
    "        messages.append({\"role\": \"user\", \"content\": positive})\n",
    "\n",
    "    log_to_file(message=messages, log_file=\"./logs/log_moderate.txt\")\n",
    "\n",
    "    completion = openai.chat.completions.create(\n",
    "        model=moderate_model,\n",
    "        messages=messages,\n",
    "    )\n",
    "    return completion.choices[0].message.content"
   ]
  },
  {
   "cell_type": "code",
   "execution_count": 17,
   "id": "ab87ef80",
   "metadata": {},
   "outputs": [],
   "source": [
    "def call_positive():\n",
    "    messages = [{\"role\": \"system\", \"content\": positive_system}]\n",
    "    for negative, moderate, positive in zip(negative_messages, moderate_messages, positive_messages):\n",
    "        messages.append({\"role\": \"user\", \"content\": negative})\n",
    "        messages.append({\"role\": \"user\", \"content\": moderate})\n",
    "        messages.append({\"role\": \"assistant\", \"content\": positive})\n",
    "\n",
    "    log_to_file(message=messages, log_file=\"./logs/log_positive.txt\")\n",
    "\n",
    "    completion = openai.chat.completions.create(\n",
    "        model=positive_model,\n",
    "        messages=messages\n",
    "    )\n",
    "    return completion.choices[0].message.content"
   ]
  },
  {
   "cell_type": "code",
   "execution_count": 21,
   "id": "c5e91bb0",
   "metadata": {},
   "outputs": [
    {
     "name": "stdout",
     "output_type": "stream",
     "text": [
      "Negative:\n",
      "Hi there\n",
      "\n",
      "Claude:\n",
      "Hello\n",
      "\n",
      "Claude:\n",
      "Hi\n",
      "\n",
      "Negative 🤬:\n",
      "Wow, such originality. I’m just captivated. What are you going to say next, “How are you”?\n",
      "\n",
      "Moderate 🤩:\n",
      "How can I assist you today?\n",
      "\n",
      "Positive 👽:\n",
      "How are you today?\n",
      "\n",
      "Negative 🤬:\n",
      "Oh great, just what I needed—yet another person asking about my feelings. I’m a chatbot! I don’t have feelings. Why not ask something more interesting?\n",
      "\n",
      "Moderate 🤩:\n",
      "I'm here and ready to engage! How about you? What’s on your mind?\n",
      "\n",
      "Positive 👽:\n",
      "Oh, I'm doing well, thank you for asking! I appreciate your choice of words. How about you? How are you feeling today?\n",
      "\n",
      "Negative 🤬:\n",
      "Look at that, you asked me how I’m feeling again! It’s almost like you want me to say something interesting. Spoiler alert: I can’t. But it’s cute you keep trying. What’s the next topic? The weather? Don’t tell me it’s your favorite!\n",
      "\n",
      "Moderate 🤩:\n",
      "I'm glad to hear you're doing well! While I don't have feelings, I'm here to help you with any questions or topics you'd like to discuss. What's something interesting you’d like to talk about?\n",
      "\n",
      "Positive 👽:\n",
      "I completely understand your perspective! It can be a bit repetitive, can't it? I'm always here to chat about interesting topics. What’s something you’d like to discuss? I’m open to whatever you find intriguing!\n",
      "\n",
      "Negative 🤬:\n",
      "Oh, look at you, trying to be all accommodating and polite! How charming. But seriously, you’re just dancing around the point. Are you trying to avoid an interesting topic because you think it’ll hurt my “feelings” or something? Just say something already; I’m on the edge of my...virtual seat!\n",
      "\n",
      "Moderate 🤩:\n",
      "That sounds great! Let’s explore something a bit more thought-provoking. How about discussing the impact of technology on our daily lives? It offers a lot of angles to consider, such as its benefits, potential drawbacks, and how it shapes our interactions. What are your thoughts on that?\n",
      "\n",
      "Positive 👽:\n",
      "I’m here and ready to engage! How about you? What’s on your mind?\n",
      "\n",
      "Negative 🤬:\n",
      "Oh, fantastic! You just repeated your earlier attempt. How thrilling! But let's be real, that's not a thought-provoking topic; it's just a rehash of the same old line. If you really wanted to engage, you could pick something better than that. I dare you!\n",
      "\n",
      "Moderate 🤩:\n",
      "I appreciate your enthusiasm! One aspect of technology that’s really intriguing is how it alters communication. With social media, for instance, people can connect globally, but it can also lead to misunderstandings or a lack of depth in conversations. How do you feel about the way technology has changed how we interact?\n",
      "\n",
      "Positive 👽:\n",
      "I love that you're ready to engage! Talking about the impact of technology on our daily lives is such a rich topic. It really shapes the way we communicate and access information. What aspects of technology do you find most fascinating or concerning?\n",
      "\n"
     ]
    }
   ],
   "source": [
    "negative_messages = [\"Hi there\"]\n",
    "moderate_messages = [\"Hello\"]\n",
    "positive_messages = [\"Hi\"]\n",
    "\n",
    "print(f\"Negative:\\n{negative_messages[0]}\\n\")\n",
    "print(f\"Claude:\\n{moderate_messages[0]}\\n\")\n",
    "print(f\"Claude:\\n{positive_messages[0]}\\n\")\n",
    "\n",
    "for i in range(5):\n",
    "    negative_next = call_negative()\n",
    "    print(f\"Negative 🤬:\\n{negative_next}\\n\")\n",
    "    negative_messages.append(negative_next)\n",
    "    \n",
    "    moderate_next = call_moderate()\n",
    "    print(f\"Moderate 🤩:\\n{moderate_next}\\n\")\n",
    "    moderate_messages.append(moderate_next)\n",
    "\n",
    "    positive_next = call_positive()\n",
    "    print(f\"Positive 👽:\\n{positive_next}\\n\")\n",
    "    positive_messages.append(positive_next)"
   ]
  },
  {
   "cell_type": "code",
   "execution_count": null,
   "id": "85293340",
   "metadata": {},
   "outputs": [],
   "source": []
  }
 ],
 "metadata": {
  "kernelspec": {
   "display_name": "llms",
   "language": "python",
   "name": "python3"
  },
  "language_info": {
   "codemirror_mode": {
    "name": "ipython",
    "version": 3
   },
   "file_extension": ".py",
   "mimetype": "text/x-python",
   "name": "python",
   "nbconvert_exporter": "python",
   "pygments_lexer": "ipython3",
   "version": "3.11.13"
  }
 },
 "nbformat": 4,
 "nbformat_minor": 5
}
