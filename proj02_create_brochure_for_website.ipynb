{
 "cells": [
  {
   "cell_type": "markdown",
   "id": "fe12c203-e6a6-452c-a655-afb8a03a4ff5",
   "metadata": {},
   "source": [
    "# PROJECT 2: CHATBOT (GPT + LLAMA)"
   ]
  },
  {
   "cell_type": "code",
   "execution_count": 1,
   "id": "c1070317-3ed9-4659-abe3-828943230e03",
   "metadata": {},
   "outputs": [],
   "source": [
    "# imports\n",
    "import os\n",
    "import requests\n",
    "import json\n",
    "from typing import List\n",
    "from dotenv import load_dotenv\n",
    "from IPython.display import Markdown, display, update_display\n",
    "from openai import OpenAI"
   ]
  },
  {
   "cell_type": "code",
   "execution_count": 2,
   "id": "4a456906-915a-4bfd-bb9d-57e505c5093f",
   "metadata": {},
   "outputs": [],
   "source": [
    "# constants\n",
    "MODEL_GPT = 'gpt-4o-mini'\n",
    "MODEL_LLAMA = 'llama3.2'"
   ]
  },
  {
   "cell_type": "code",
   "execution_count": 3,
   "id": "a8d7923c-5f28-4c30-8556-342d7c8497c1",
   "metadata": {},
   "outputs": [
    {
     "name": "stdout",
     "output_type": "stream",
     "text": [
      "API key looks good so far\n"
     ]
    }
   ],
   "source": [
    "# set up environment\n",
    "load_dotenv(override=True)\n",
    "api_key = os.getenv('OPENAI_API_KEY')\n",
    "\n",
    "if api_key and api_key.startswith('sk-proj-') and len(api_key)>10:\n",
    "    print(\"API key looks good so far\")\n",
    "else:\n",
    "    print(\"There might be a problem with your API key? Please visit the troubleshooting notebook!\")"
   ]
  },
  {
   "cell_type": "code",
   "execution_count": 17,
   "id": "f70e6bf9-0d13-4625-8d48-ce17da5a68e6",
   "metadata": {},
   "outputs": [],
   "source": [
    "# prompts\n",
    "system_prompt = \"You are a helpful technical tutor who answers questions about python code, software engineering, data science and LLMs\"\n",
    "user_prompt = \"Please give a detailed explanation to the following question: \"\n",
    "\n",
    "# initialize model\n",
    "def stream_response(question, model, openai):\n",
    "    stream = openai.chat.completions.create(\n",
    "        model=model,\n",
    "        messages=[\n",
    "            {\"role\": \"system\", \"content\": system_prompt},\n",
    "            {\"role\": \"user\", \"content\": question}\n",
    "          ],\n",
    "        stream=True\n",
    "    )\n",
    "    \n",
    "    response = \"\"\n",
    "    display_handle = display(Markdown(\"\"), display_id=True)\n",
    "    for chunk in stream:\n",
    "        response += chunk.choices[0].delta.content or ''\n",
    "        response = response.replace(\"```\",\"\").replace(\"markdown\", \"\")\n",
    "        update_display(Markdown(response), display_id=display_handle.display_id)"
   ]
  },
  {
   "cell_type": "code",
   "execution_count": 15,
   "id": "a8b38273-a757-4bb8-9dc0-3f42d5815bf2",
   "metadata": {},
   "outputs": [],
   "source": [
    "# Strategy pattern\n",
    "from abc import ABC, abstractmethod\n",
    "# abc = abstract base class\n",
    "# Step 1: Define the Strategy Interface\n",
    "class OpenAIStrategy(ABC):\n",
    "    @abstractmethod\n",
    "    def getStreamResponse(self, question: str) -> None:\n",
    "        pass\n",
    "\n",
    "# Step 2: Create Concrete Strategies\n",
    "class GPTStrategy(OpenAIStrategy):\n",
    "    def getStreamResponse(self, question: str) -> None:\n",
    "        openai = OpenAI()\n",
    "        stream_response(question, MODEL_GPT, openai)\n",
    "\n",
    "class LLAMAStrategy(OpenAIStrategy):\n",
    "    def getStreamResponse(self, question: str) -> None:\n",
    "        openai = OpenAI(base_url='http://localhost:11434/v1', api_key='ollama')\n",
    "        stream_response(question, MODEL_LLAMA, openai)\n",
    "\n",
    "# Step 3: Create the Context\n",
    "class ApiProcessor:\n",
    "    def __init__(self, strategy: OpenAIStrategy):\n",
    "        self._strategy = strategy\n",
    "\n",
    "    def set_strategy(self, strategy: OpenAIStrategy):\n",
    "        \"\"\"Change the strategy at runtime.\"\"\"\n",
    "        self._strategy = strategy\n",
    "\n",
    "    def process_model(self, question: str):\n",
    "        \"\"\"Apply the current strategy to the text.\"\"\"\n",
    "        self._strategy.getStreamResponse(user_prompt + question)"
   ]
  },
  {
   "cell_type": "code",
   "execution_count": null,
   "id": "3f0d0137-52b0-47a8-81a8-11a90a010798",
   "metadata": {},
   "outputs": [],
   "source": [
    "# here is the question; type over this to ask something new\n",
    "\n",
    "question = \"\"\"\n",
    "    if age >= 18:\n",
    "        print(\"You are an adult.\")\n",
    "    else:\n",
    "        print(\"You are a minor.\")\n",
    "\"\"\""
   ]
  },
  {
   "cell_type": "code",
   "execution_count": 18,
   "id": "60ce7000-a4a5-4cce-a261-e75ef45063b4",
   "metadata": {},
   "outputs": [
    {
     "data": {
      "text/markdown": [
       "Sure! Let's break down the code snippet you provided: \n",
       "\n",
       "python\n",
       "yield from {book.get(\"author\") for book in books if book.get(\"author\")}\n",
       "\n",
       "\n",
       "### Components of the Code\n",
       "\n",
       "#### 1. Set Comprehension\n",
       "The code inside the `{}` is a **set comprehension**. Set comprehensions allow you to create a set in a concise way and can be thought of as similar to list comprehensions.\n",
       "\n",
       "- **`{book.get(\"author\") for book in books if book.get(\"author\")}`**:\n",
       "  - `book` iterates over each element in `books`.\n",
       "  - `book.get(\"author\")` tries to retrieve the value associated with the key `\"author\"` from each `book` dictionary.\n",
       "  - The `if book.get(\"author\")` clause serves as a filter, ensuring that only books with a non-`None` and non-empty author string are included in the resulting set.\n",
       "\n",
       "In summary, this expression creates a set containing unique author names from the `books` collection, but only if the author key has a valid (non-empty) value.\n",
       "\n",
       "#### 2. `yield from`\n",
       "The `yield from` statement is used to yield all values from an iterable (in this case, the set created by the comprehension) one at a time. This is typically seen in generator functions in Python. \n",
       "\n",
       "- This means the function containing this code is likely a generator function, which can produce a series of values over time rather than returning all of them at once. By using `yield`, the function can be paused and resumed, which is useful for handling large datasets or streams of data efficiently.\n",
       "\n",
       "### Why Use This Code?\n",
       "\n",
       "1. **Extract Unique Authors**: The set comprehension combined with `get()` and conditional filtering ensures we attain a unique set of authors from the `books` collection while safely handling cases where the `\"author\"` key might not exist or might have a `None` value.\n",
       "  \n",
       "2. **Memory Efficiency**: Using a generator (via `yield from`) allows the code to process and return authors on-the-fly, rather than storing them all in memory at once. This can be particularly important when dealing with large datasets, as it reduces memory usage.\n",
       "\n",
       "3. **Cleaner Code**: The use of set comprehensions and `yield from` simplifies the syntax compared to manually constructing a set and then separately yielding its contents.\n",
       "\n",
       "### Example Scenario\n",
       "\n",
       "Let's say you have a list of books (as dictionaries) like this:\n",
       "\n",
       "python\n",
       "books = [\n",
       "    {\"title\": \"Book 1\", \"author\": \"Author A\"},\n",
       "    {\"title\": \"Book 2\", \"author\": \"Author B\"},\n",
       "    {\"title\": \"Book 3\", \"author\": None},\n",
       "    {\"title\": \"Book 4\", \"author\": \"Author A\"},\n",
       "    {\"title\": \"Book 5\", \"author\": \"\"},\n",
       "]\n",
       "\n",
       "\n",
       "If you execute the line of code provided, it would produce a set containing `\"Author A\"` and `\"Author B\"` (note that \"Author A\" appears twice in the input but only once in the output due to the properties of a set).\n",
       "\n",
       "### Conclusion\n",
       "\n",
       "Overall, this single line of code is effective for extracting a set of unique author names from a collection of book references while using a memory-efficient approach provided by Python’s generator functionality. It elegantly handles missing data and avoids duplication."
      ],
      "text/plain": [
       "<IPython.core.display.Markdown object>"
      ]
     },
     "metadata": {},
     "output_type": "display_data"
    }
   ],
   "source": [
    "# Get gpt-4o-mini to answer, with streaming\n",
    "apiProcessor = ApiProcessor(GPTStrategy())\n",
    "apiProcessor.process_model(question)"
   ]
  },
  {
   "cell_type": "code",
   "execution_count": 19,
   "id": "8f7c8ea8-4082-4ad0-8751-3301adcf6538",
   "metadata": {},
   "outputs": [
    {
     "data": {
      "text/markdown": [
       "**Code Analysis**\n",
       "\n",
       "The given code snippet involves a combination of Python's yield from syntax, dictionary lookup (`get()`), and list comprehension. Let's break it down:\n",
       "\n",
       "python\n",
       "yield from {...}\n",
       "\n",
       "\n",
       "In Python 3.3 and later versions, `yield from` is used to delegate the iteration of an iterable (either a single object or a generator) to another iterable. It creates a new generator that iterates over the given iterable, rather than yielding its own values.\n",
       "\n",
       "python\n",
       "...\n",
       "for book in books if condition:\n",
       "    ...\n",
       "\n",
       "\n",
       "Here, the code uses a conditional statement (`if`) to filter books based on an author-related check. If the resulting iterator is assigned to `books`, it implies that we might be working with an extended Iterable-like object that satisfies the conditions of the original iterable.\n",
       "\n",
       "Now, let's consider:\n",
       "\n",
       "python\n",
       "{book.get(\"author\") for book in books if book.get(\"author\")}\n",
       "\n",
       "\n",
       "This is a dictionary comprehension (although not as traditional as others) using a conditional `if` to filter items in the iterable (`books`). It takes each dictionary item (`book`) inside the iterable, extracts its author value from it using `.get(\"author\")`, and uses these value-only dictionaries for iteration.\n",
       "\n",
       "Finally:\n",
       "\n",
       "python\n",
       "yield from {...}\n",
       "\n",
       "\n",
       "In this context, `yield from {book.get(\"author\") for book in books if book.get(\"author\")}` is performing three primary tasks: \n",
       "\n",
       "    1. Filtering: the conditional part `if book.get(\"author\")` iterates only over those dictionaries (`books`) that have a value present in `\"author\"`-key;\n",
       "\n",
       "2. Dictionary values extraction and processing of key-value pairing into a value-only dictionary by `.get(\"author\")`, i.e., `{book author:`}, effectively discarding every other value or pairs.\n",
       "However for yielding this list of extracted books authors, yield from {....} acts in place of for loop that iterates over it. This lets you process multiple elements like 'author' (i.e., list comprehension and not `for` iteration to do so.\n",
       "\n",
       "\n",
       "\n",
       "**Code Explanation with Code**\n",
       "\n",
       "Here is the equivalent code explanation:\n",
       "python\n",
       "def get_authors_from_books(books):\n",
       "    for book in books:\n",
       "        if \"author\" in book:\n",
       "            yield book[\"author\"]\n",
       "\n",
       "In this code, if we were using traditional for loop instead of `yield from`: \n",
       "But we would still use similar filtering with `.get(\"author\")` when defining this variable. With dictionary comprehension to further strip other value pairs if necessary.\n",
       "\n",
       "Here's an example usage:\n",
       "\n",
       "python\n",
       "# Sample books data as dictionaries\n",
       "books = [\n",
       "    {\"id\": 1, \"title\": \"Book A\", \"author\": \"Author 1\"},\n",
       "    {\"id\": 2, \"book\": \"Another text Book\", \"author\": \"Author 3\"},\n",
       "    {\"id\": 3, \"text\": \"Third book chapter\", \"author\": \"Author 4\"}\n",
       "]\n",
       "\n",
       "# Function to get filtered authors using dictionary literal `get()`\n",
       "def get_authors(books):\n",
       "    return {book.get(\"author\") for book in books if book.get(\"author\")}\n",
       "\n",
       "print(get_authors(books)) \n",
       "\n",
       "\n",
       "**Answer** The final output list is: \n",
       "\n",
       "\n",
       "{'Author 1', 'Author 3', 'Author 4'}\n"
      ],
      "text/plain": [
       "<IPython.core.display.Markdown object>"
      ]
     },
     "metadata": {},
     "output_type": "display_data"
    }
   ],
   "source": [
    "# Get Llama 3.2 to answer\n",
    "apiProcessor = ApiProcessor(LLAMAStrategy())\n",
    "apiProcessor.process_model(question)"
   ]
  }
 ],
 "metadata": {
  "kernelspec": {
   "display_name": "Python 3 (ipykernel)",
   "language": "python",
   "name": "python3"
  },
  "language_info": {
   "codemirror_mode": {
    "name": "ipython",
    "version": 3
   },
   "file_extension": ".py",
   "mimetype": "text/x-python",
   "name": "python",
   "nbconvert_exporter": "python",
   "pygments_lexer": "ipython3",
   "version": "3.11.13"
  }
 },
 "nbformat": 4,
 "nbformat_minor": 5
}
